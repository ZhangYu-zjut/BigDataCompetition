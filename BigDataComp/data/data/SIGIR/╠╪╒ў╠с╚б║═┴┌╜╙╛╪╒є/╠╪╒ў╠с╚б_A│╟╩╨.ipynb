{
 "cells": [
  {
   "cell_type": "code",
   "execution_count": 1,
   "metadata": {},
   "outputs": [],
   "source": [
    "import pandas as pd\n",
    "import numpy as np\n",
    "import matplotlib.pyplot as plt\n",
    "from scipy.optimize import curve_fit"
   ]
  },
  {
   "cell_type": "code",
   "execution_count": 2,
   "metadata": {},
   "outputs": [],
   "source": [
    "# dst=pd.read_csv('train_data/city_A/density.csv',header=None,names=['date','hour','zonex','zoney','dst'])\n",
    "\n",
    "# tsf=pd.read_csv('train_data/city_A/transfer.csv',header=None,names=['hour','zone1x','zone1y','zone2x','zone2y','tsf'])"
   ]
  },
  {
   "cell_type": "markdown",
   "metadata": {},
   "source": [
    "# 新增感染人数关键特征值提取，多变量回归建模预测，把A城市建立的模型应用在BCDE上\n",
    "## 首次出现日期\n",
    "\n",
    "## 爆发日期（顶点日期）\n",
    "- 主要和城市有关（一个城市共享一个人口流动控制政策）\n",
    "- \n",
    "\n",
    "## 爆发最高人数（顶点人数）\n",
    "- 主要和区域附近的人口数量有关\n",
    "- 以及区域和周边的人员流动\n",
    "\n",
    "## 爬坡期指数曲线参数\n",
    "## 下降期指数曲线参数\n",
    "## 有无二次爆发\n",
    "\n",
    "\n",
    "有明显的人为控制人口流动的情况；应该把人口流动作为新增感染人数y最主要的预测变量x；\n",
    "\n",
    "需要根据A城市探究某区域人口流动对新增感染人数的影响因素分析"
   ]
  },
  {
   "cell_type": "markdown",
   "metadata": {},
   "source": [
    "## 简单的模型\n",
    "\n",
    "- 二次抛物线拟合参数与区域人口密度、人流量、"
   ]
  },
  {
   "cell_type": "markdown",
   "metadata": {},
   "source": [
    "# 特征变量提取"
   ]
  },
  {
   "cell_type": "markdown",
   "metadata": {},
   "source": [
    "# 1 新增感染人数"
   ]
  },
  {
   "cell_type": "markdown",
   "metadata": {},
   "source": [
    "`df.idxmax()`\n",
    "Return index of first occurrence of maximum over requested axis."
   ]
  },
  {
   "cell_type": "code",
   "execution_count": 3,
   "metadata": {},
   "outputs": [],
   "source": [
    "ifc=pd.read_csv('train_data/city_A/infection.csv',header=None,names=['city','zoneid','date','ifc'])\n",
    "ifc['date']=pd.to_datetime(ifc['date'],format='%Y%m%d')\n",
    "ifc=ifc.set_index('date')"
   ]
  },
  {
   "cell_type": "code",
   "execution_count": 4,
   "metadata": {},
   "outputs": [
    {
     "data": {
      "text/html": [
       "<div>\n",
       "<style scoped>\n",
       "    .dataframe tbody tr th:only-of-type {\n",
       "        vertical-align: middle;\n",
       "    }\n",
       "\n",
       "    .dataframe tbody tr th {\n",
       "        vertical-align: top;\n",
       "    }\n",
       "\n",
       "    .dataframe thead th {\n",
       "        text-align: right;\n",
       "    }\n",
       "</style>\n",
       "<table border=\"1\" class=\"dataframe\">\n",
       "  <thead>\n",
       "    <tr style=\"text-align: right;\">\n",
       "      <th></th>\n",
       "      <th>city</th>\n",
       "      <th>zoneid</th>\n",
       "      <th>ifc</th>\n",
       "    </tr>\n",
       "    <tr>\n",
       "      <th>date</th>\n",
       "      <th></th>\n",
       "      <th></th>\n",
       "      <th></th>\n",
       "    </tr>\n",
       "  </thead>\n",
       "  <tbody>\n",
       "    <tr>\n",
       "      <th>2120-06-14</th>\n",
       "      <td>A</td>\n",
       "      <td>63</td>\n",
       "      <td>3</td>\n",
       "    </tr>\n",
       "    <tr>\n",
       "      <th>2120-06-13</th>\n",
       "      <td>A</td>\n",
       "      <td>4</td>\n",
       "      <td>4</td>\n",
       "    </tr>\n",
       "    <tr>\n",
       "      <th>2120-06-14</th>\n",
       "      <td>A</td>\n",
       "      <td>86</td>\n",
       "      <td>4</td>\n",
       "    </tr>\n",
       "    <tr>\n",
       "      <th>2120-06-12</th>\n",
       "      <td>A</td>\n",
       "      <td>63</td>\n",
       "      <td>5</td>\n",
       "    </tr>\n",
       "    <tr>\n",
       "      <th>2120-06-12</th>\n",
       "      <td>A</td>\n",
       "      <td>4</td>\n",
       "      <td>6</td>\n",
       "    </tr>\n",
       "    <tr>\n",
       "      <th>2120-06-12</th>\n",
       "      <td>A</td>\n",
       "      <td>110</td>\n",
       "      <td>7</td>\n",
       "    </tr>\n",
       "    <tr>\n",
       "      <th>2120-06-14</th>\n",
       "      <td>A</td>\n",
       "      <td>112</td>\n",
       "      <td>7</td>\n",
       "    </tr>\n",
       "    <tr>\n",
       "      <th>2120-06-13</th>\n",
       "      <td>A</td>\n",
       "      <td>63</td>\n",
       "      <td>7</td>\n",
       "    </tr>\n",
       "    <tr>\n",
       "      <th>2120-06-14</th>\n",
       "      <td>A</td>\n",
       "      <td>77</td>\n",
       "      <td>9</td>\n",
       "    </tr>\n",
       "    <tr>\n",
       "      <th>2120-06-12</th>\n",
       "      <td>A</td>\n",
       "      <td>86</td>\n",
       "      <td>9</td>\n",
       "    </tr>\n",
       "    <tr>\n",
       "      <th>2120-06-12</th>\n",
       "      <td>A</td>\n",
       "      <td>115</td>\n",
       "      <td>10</td>\n",
       "    </tr>\n",
       "    <tr>\n",
       "      <th>2120-06-14</th>\n",
       "      <td>A</td>\n",
       "      <td>82</td>\n",
       "      <td>10</td>\n",
       "    </tr>\n",
       "    <tr>\n",
       "      <th>2120-06-14</th>\n",
       "      <td>A</td>\n",
       "      <td>110</td>\n",
       "      <td>10</td>\n",
       "    </tr>\n",
       "    <tr>\n",
       "      <th>2120-06-13</th>\n",
       "      <td>A</td>\n",
       "      <td>3</td>\n",
       "      <td>10</td>\n",
       "    </tr>\n",
       "    <tr>\n",
       "      <th>2120-06-12</th>\n",
       "      <td>A</td>\n",
       "      <td>6</td>\n",
       "      <td>10</td>\n",
       "    </tr>\n",
       "  </tbody>\n",
       "</table>\n",
       "</div>"
      ],
      "text/plain": [
       "           city  zoneid  ifc\n",
       "date                        \n",
       "2120-06-14    A      63    3\n",
       "2120-06-13    A       4    4\n",
       "2120-06-14    A      86    4\n",
       "2120-06-12    A      63    5\n",
       "2120-06-12    A       4    6\n",
       "2120-06-12    A     110    7\n",
       "2120-06-14    A     112    7\n",
       "2120-06-13    A      63    7\n",
       "2120-06-14    A      77    9\n",
       "2120-06-12    A      86    9\n",
       "2120-06-12    A     115   10\n",
       "2120-06-14    A      82   10\n",
       "2120-06-14    A     110   10\n",
       "2120-06-13    A       3   10\n",
       "2120-06-12    A       6   10"
      ]
     },
     "execution_count": 4,
     "metadata": {},
     "output_type": "execute_result"
    }
   ],
   "source": [
    "ifc.loc[ifc.index.unique()[-3:]].sort_values('ifc')[:15]"
   ]
  },
  {
   "cell_type": "code",
   "execution_count": 5,
   "metadata": {},
   "outputs": [
    {
     "data": {
      "text/html": [
       "<div>\n",
       "<style scoped>\n",
       "    .dataframe tbody tr th:only-of-type {\n",
       "        vertical-align: middle;\n",
       "    }\n",
       "\n",
       "    .dataframe tbody tr th {\n",
       "        vertical-align: top;\n",
       "    }\n",
       "\n",
       "    .dataframe thead th {\n",
       "        text-align: right;\n",
       "    }\n",
       "</style>\n",
       "<table border=\"1\" class=\"dataframe\">\n",
       "  <thead>\n",
       "    <tr style=\"text-align: right;\">\n",
       "      <th></th>\n",
       "      <th>city</th>\n",
       "      <th>zoneid</th>\n",
       "      <th>ifc</th>\n",
       "    </tr>\n",
       "    <tr>\n",
       "      <th>date</th>\n",
       "      <th></th>\n",
       "      <th></th>\n",
       "      <th></th>\n",
       "    </tr>\n",
       "  </thead>\n",
       "  <tbody>\n",
       "    <tr>\n",
       "      <th>2120-05-01</th>\n",
       "      <td>A</td>\n",
       "      <td>63</td>\n",
       "      <td>0</td>\n",
       "    </tr>\n",
       "    <tr>\n",
       "      <th>2120-05-02</th>\n",
       "      <td>A</td>\n",
       "      <td>63</td>\n",
       "      <td>0</td>\n",
       "    </tr>\n",
       "    <tr>\n",
       "      <th>2120-05-03</th>\n",
       "      <td>A</td>\n",
       "      <td>63</td>\n",
       "      <td>0</td>\n",
       "    </tr>\n",
       "    <tr>\n",
       "      <th>2120-05-04</th>\n",
       "      <td>A</td>\n",
       "      <td>63</td>\n",
       "      <td>0</td>\n",
       "    </tr>\n",
       "    <tr>\n",
       "      <th>2120-05-05</th>\n",
       "      <td>A</td>\n",
       "      <td>63</td>\n",
       "      <td>0</td>\n",
       "    </tr>\n",
       "    <tr>\n",
       "      <th>2120-05-06</th>\n",
       "      <td>A</td>\n",
       "      <td>63</td>\n",
       "      <td>0</td>\n",
       "    </tr>\n",
       "    <tr>\n",
       "      <th>2120-05-07</th>\n",
       "      <td>A</td>\n",
       "      <td>63</td>\n",
       "      <td>0</td>\n",
       "    </tr>\n",
       "    <tr>\n",
       "      <th>2120-05-08</th>\n",
       "      <td>A</td>\n",
       "      <td>63</td>\n",
       "      <td>0</td>\n",
       "    </tr>\n",
       "    <tr>\n",
       "      <th>2120-05-09</th>\n",
       "      <td>A</td>\n",
       "      <td>63</td>\n",
       "      <td>0</td>\n",
       "    </tr>\n",
       "    <tr>\n",
       "      <th>2120-05-10</th>\n",
       "      <td>A</td>\n",
       "      <td>63</td>\n",
       "      <td>0</td>\n",
       "    </tr>\n",
       "    <tr>\n",
       "      <th>2120-05-11</th>\n",
       "      <td>A</td>\n",
       "      <td>63</td>\n",
       "      <td>0</td>\n",
       "    </tr>\n",
       "    <tr>\n",
       "      <th>2120-05-12</th>\n",
       "      <td>A</td>\n",
       "      <td>63</td>\n",
       "      <td>0</td>\n",
       "    </tr>\n",
       "    <tr>\n",
       "      <th>2120-05-13</th>\n",
       "      <td>A</td>\n",
       "      <td>63</td>\n",
       "      <td>0</td>\n",
       "    </tr>\n",
       "    <tr>\n",
       "      <th>2120-05-14</th>\n",
       "      <td>A</td>\n",
       "      <td>63</td>\n",
       "      <td>0</td>\n",
       "    </tr>\n",
       "    <tr>\n",
       "      <th>2120-05-15</th>\n",
       "      <td>A</td>\n",
       "      <td>63</td>\n",
       "      <td>0</td>\n",
       "    </tr>\n",
       "    <tr>\n",
       "      <th>2120-05-16</th>\n",
       "      <td>A</td>\n",
       "      <td>63</td>\n",
       "      <td>0</td>\n",
       "    </tr>\n",
       "    <tr>\n",
       "      <th>2120-05-17</th>\n",
       "      <td>A</td>\n",
       "      <td>63</td>\n",
       "      <td>0</td>\n",
       "    </tr>\n",
       "    <tr>\n",
       "      <th>2120-05-18</th>\n",
       "      <td>A</td>\n",
       "      <td>63</td>\n",
       "      <td>2</td>\n",
       "    </tr>\n",
       "    <tr>\n",
       "      <th>2120-05-19</th>\n",
       "      <td>A</td>\n",
       "      <td>63</td>\n",
       "      <td>0</td>\n",
       "    </tr>\n",
       "    <tr>\n",
       "      <th>2120-05-20</th>\n",
       "      <td>A</td>\n",
       "      <td>63</td>\n",
       "      <td>4</td>\n",
       "    </tr>\n",
       "    <tr>\n",
       "      <th>2120-05-21</th>\n",
       "      <td>A</td>\n",
       "      <td>63</td>\n",
       "      <td>2</td>\n",
       "    </tr>\n",
       "    <tr>\n",
       "      <th>2120-05-22</th>\n",
       "      <td>A</td>\n",
       "      <td>63</td>\n",
       "      <td>7</td>\n",
       "    </tr>\n",
       "    <tr>\n",
       "      <th>2120-05-23</th>\n",
       "      <td>A</td>\n",
       "      <td>63</td>\n",
       "      <td>3</td>\n",
       "    </tr>\n",
       "    <tr>\n",
       "      <th>2120-05-24</th>\n",
       "      <td>A</td>\n",
       "      <td>63</td>\n",
       "      <td>3</td>\n",
       "    </tr>\n",
       "    <tr>\n",
       "      <th>2120-05-25</th>\n",
       "      <td>A</td>\n",
       "      <td>63</td>\n",
       "      <td>54</td>\n",
       "    </tr>\n",
       "    <tr>\n",
       "      <th>2120-05-26</th>\n",
       "      <td>A</td>\n",
       "      <td>63</td>\n",
       "      <td>51</td>\n",
       "    </tr>\n",
       "    <tr>\n",
       "      <th>2120-05-27</th>\n",
       "      <td>A</td>\n",
       "      <td>63</td>\n",
       "      <td>76</td>\n",
       "    </tr>\n",
       "    <tr>\n",
       "      <th>2120-05-28</th>\n",
       "      <td>A</td>\n",
       "      <td>63</td>\n",
       "      <td>141</td>\n",
       "    </tr>\n",
       "    <tr>\n",
       "      <th>2120-05-29</th>\n",
       "      <td>A</td>\n",
       "      <td>63</td>\n",
       "      <td>182</td>\n",
       "    </tr>\n",
       "    <tr>\n",
       "      <th>2120-05-30</th>\n",
       "      <td>A</td>\n",
       "      <td>63</td>\n",
       "      <td>68</td>\n",
       "    </tr>\n",
       "    <tr>\n",
       "      <th>2120-05-31</th>\n",
       "      <td>A</td>\n",
       "      <td>63</td>\n",
       "      <td>405</td>\n",
       "    </tr>\n",
       "    <tr>\n",
       "      <th>2120-06-01</th>\n",
       "      <td>A</td>\n",
       "      <td>63</td>\n",
       "      <td>628</td>\n",
       "    </tr>\n",
       "    <tr>\n",
       "      <th>2120-06-02</th>\n",
       "      <td>A</td>\n",
       "      <td>63</td>\n",
       "      <td>695</td>\n",
       "    </tr>\n",
       "    <tr>\n",
       "      <th>2120-06-03</th>\n",
       "      <td>A</td>\n",
       "      <td>63</td>\n",
       "      <td>275</td>\n",
       "    </tr>\n",
       "    <tr>\n",
       "      <th>2120-06-04</th>\n",
       "      <td>A</td>\n",
       "      <td>63</td>\n",
       "      <td>149</td>\n",
       "    </tr>\n",
       "    <tr>\n",
       "      <th>2120-06-05</th>\n",
       "      <td>A</td>\n",
       "      <td>63</td>\n",
       "      <td>42</td>\n",
       "    </tr>\n",
       "    <tr>\n",
       "      <th>2120-06-06</th>\n",
       "      <td>A</td>\n",
       "      <td>63</td>\n",
       "      <td>36</td>\n",
       "    </tr>\n",
       "    <tr>\n",
       "      <th>2120-06-07</th>\n",
       "      <td>A</td>\n",
       "      <td>63</td>\n",
       "      <td>36</td>\n",
       "    </tr>\n",
       "    <tr>\n",
       "      <th>2120-06-08</th>\n",
       "      <td>A</td>\n",
       "      <td>63</td>\n",
       "      <td>18</td>\n",
       "    </tr>\n",
       "    <tr>\n",
       "      <th>2120-06-09</th>\n",
       "      <td>A</td>\n",
       "      <td>63</td>\n",
       "      <td>11</td>\n",
       "    </tr>\n",
       "    <tr>\n",
       "      <th>2120-06-10</th>\n",
       "      <td>A</td>\n",
       "      <td>63</td>\n",
       "      <td>12</td>\n",
       "    </tr>\n",
       "    <tr>\n",
       "      <th>2120-06-11</th>\n",
       "      <td>A</td>\n",
       "      <td>63</td>\n",
       "      <td>1</td>\n",
       "    </tr>\n",
       "    <tr>\n",
       "      <th>2120-06-12</th>\n",
       "      <td>A</td>\n",
       "      <td>63</td>\n",
       "      <td>5</td>\n",
       "    </tr>\n",
       "    <tr>\n",
       "      <th>2120-06-13</th>\n",
       "      <td>A</td>\n",
       "      <td>63</td>\n",
       "      <td>7</td>\n",
       "    </tr>\n",
       "    <tr>\n",
       "      <th>2120-06-14</th>\n",
       "      <td>A</td>\n",
       "      <td>63</td>\n",
       "      <td>3</td>\n",
       "    </tr>\n",
       "  </tbody>\n",
       "</table>\n",
       "</div>"
      ],
      "text/plain": [
       "           city  zoneid  ifc\n",
       "date                        \n",
       "2120-05-01    A      63    0\n",
       "2120-05-02    A      63    0\n",
       "2120-05-03    A      63    0\n",
       "2120-05-04    A      63    0\n",
       "2120-05-05    A      63    0\n",
       "2120-05-06    A      63    0\n",
       "2120-05-07    A      63    0\n",
       "2120-05-08    A      63    0\n",
       "2120-05-09    A      63    0\n",
       "2120-05-10    A      63    0\n",
       "2120-05-11    A      63    0\n",
       "2120-05-12    A      63    0\n",
       "2120-05-13    A      63    0\n",
       "2120-05-14    A      63    0\n",
       "2120-05-15    A      63    0\n",
       "2120-05-16    A      63    0\n",
       "2120-05-17    A      63    0\n",
       "2120-05-18    A      63    2\n",
       "2120-05-19    A      63    0\n",
       "2120-05-20    A      63    4\n",
       "2120-05-21    A      63    2\n",
       "2120-05-22    A      63    7\n",
       "2120-05-23    A      63    3\n",
       "2120-05-24    A      63    3\n",
       "2120-05-25    A      63   54\n",
       "2120-05-26    A      63   51\n",
       "2120-05-27    A      63   76\n",
       "2120-05-28    A      63  141\n",
       "2120-05-29    A      63  182\n",
       "2120-05-30    A      63   68\n",
       "2120-05-31    A      63  405\n",
       "2120-06-01    A      63  628\n",
       "2120-06-02    A      63  695\n",
       "2120-06-03    A      63  275\n",
       "2120-06-04    A      63  149\n",
       "2120-06-05    A      63   42\n",
       "2120-06-06    A      63   36\n",
       "2120-06-07    A      63   36\n",
       "2120-06-08    A      63   18\n",
       "2120-06-09    A      63   11\n",
       "2120-06-10    A      63   12\n",
       "2120-06-11    A      63    1\n",
       "2120-06-12    A      63    5\n",
       "2120-06-13    A      63    7\n",
       "2120-06-14    A      63    3"
      ]
     },
     "execution_count": 5,
     "metadata": {},
     "output_type": "execute_result"
    }
   ],
   "source": [
    "ifc[ifc.zoneid==63]"
   ]
  },
  {
   "cell_type": "markdown",
   "metadata": {},
   "source": [
    "## 1.1 转折点提取\n",
    "### 1.1.1 每个区域首例出现日期和新增感染人数\n",
    "A城市最多的是在5-18出现首例，一般是在18-22这5天内陆续出现"
   ]
  },
  {
   "cell_type": "code",
   "execution_count": 6,
   "metadata": {},
   "outputs": [],
   "source": [
    "first=ifc.groupby('zoneid').apply(lambda g:(g.ifc>0).idxmax())"
   ]
  },
  {
   "cell_type": "code",
   "execution_count": 7,
   "metadata": {},
   "outputs": [
    {
     "data": {
      "text/plain": [
       "<matplotlib.axes._subplots.AxesSubplot at 0x1eb8ca7b400>"
      ]
     },
     "execution_count": 7,
     "metadata": {},
     "output_type": "execute_result"
    },
    {
     "data": {
      "image/png": "[encoded data removed]",
      "text/plain": [
       "<Figure size 432x288 with 1 Axes>"
      ]
     },
     "metadata": {},
     "output_type": "display_data"
    }
   ],
   "source": [
    "first.value_counts().plot.bar()"
   ]
  },
  {
   "cell_type": "code",
   "execution_count": 8,
   "metadata": {},
   "outputs": [
    {
     "data": {
      "text/html": [
       "<div>\n",
       "<style scoped>\n",
       "    .dataframe tbody tr th:only-of-type {\n",
       "        vertical-align: middle;\n",
       "    }\n",
       "\n",
       "    .dataframe tbody tr th {\n",
       "        vertical-align: top;\n",
       "    }\n",
       "\n",
       "    .dataframe thead th {\n",
       "        text-align: right;\n",
       "    }\n",
       "</style>\n",
       "<table border=\"1\" class=\"dataframe\">\n",
       "  <thead>\n",
       "    <tr style=\"text-align: right;\">\n",
       "      <th></th>\n",
       "      <th>date</th>\n",
       "      <th>city</th>\n",
       "      <th>zoneid</th>\n",
       "      <th>ifc</th>\n",
       "    </tr>\n",
       "  </thead>\n",
       "  <tbody>\n",
       "    <tr>\n",
       "      <th>107</th>\n",
       "      <td>2120-05-22</td>\n",
       "      <td>A</td>\n",
       "      <td>107</td>\n",
       "      <td>31</td>\n",
       "    </tr>\n",
       "    <tr>\n",
       "      <th>27</th>\n",
       "      <td>2120-05-24</td>\n",
       "      <td>A</td>\n",
       "      <td>27</td>\n",
       "      <td>27</td>\n",
       "    </tr>\n",
       "    <tr>\n",
       "      <th>39</th>\n",
       "      <td>2120-05-15</td>\n",
       "      <td>A</td>\n",
       "      <td>39</td>\n",
       "      <td>25</td>\n",
       "    </tr>\n",
       "    <tr>\n",
       "      <th>53</th>\n",
       "      <td>2120-05-14</td>\n",
       "      <td>A</td>\n",
       "      <td>53</td>\n",
       "      <td>18</td>\n",
       "    </tr>\n",
       "    <tr>\n",
       "      <th>42</th>\n",
       "      <td>2120-05-18</td>\n",
       "      <td>A</td>\n",
       "      <td>42</td>\n",
       "      <td>17</td>\n",
       "    </tr>\n",
       "    <tr>\n",
       "      <th>...</th>\n",
       "      <td>...</td>\n",
       "      <td>...</td>\n",
       "      <td>...</td>\n",
       "      <td>...</td>\n",
       "    </tr>\n",
       "    <tr>\n",
       "      <th>74</th>\n",
       "      <td>2120-05-19</td>\n",
       "      <td>A</td>\n",
       "      <td>74</td>\n",
       "      <td>1</td>\n",
       "    </tr>\n",
       "    <tr>\n",
       "      <th>82</th>\n",
       "      <td>2120-05-20</td>\n",
       "      <td>A</td>\n",
       "      <td>82</td>\n",
       "      <td>1</td>\n",
       "    </tr>\n",
       "    <tr>\n",
       "      <th>86</th>\n",
       "      <td>2120-05-18</td>\n",
       "      <td>A</td>\n",
       "      <td>86</td>\n",
       "      <td>1</td>\n",
       "    </tr>\n",
       "    <tr>\n",
       "      <th>87</th>\n",
       "      <td>2120-05-22</td>\n",
       "      <td>A</td>\n",
       "      <td>87</td>\n",
       "      <td>1</td>\n",
       "    </tr>\n",
       "    <tr>\n",
       "      <th>117</th>\n",
       "      <td>2120-05-20</td>\n",
       "      <td>A</td>\n",
       "      <td>117</td>\n",
       "      <td>1</td>\n",
       "    </tr>\n",
       "  </tbody>\n",
       "</table>\n",
       "<p>118 rows × 4 columns</p>\n",
       "</div>"
      ],
      "text/plain": [
       "          date city  zoneid  ifc\n",
       "107 2120-05-22    A     107   31\n",
       "27  2120-05-24    A      27   27\n",
       "39  2120-05-15    A      39   25\n",
       "53  2120-05-14    A      53   18\n",
       "42  2120-05-18    A      42   17\n",
       "..         ...  ...     ...  ...\n",
       "74  2120-05-19    A      74    1\n",
       "82  2120-05-20    A      82    1\n",
       "86  2120-05-18    A      86    1\n",
       "87  2120-05-22    A      87    1\n",
       "117 2120-05-20    A     117    1\n",
       "\n",
       "[118 rows x 4 columns]"
      ]
     },
     "execution_count": 8,
     "metadata": {},
     "output_type": "execute_result"
    }
   ],
   "source": [
    "first_df=ifc.reset_index().merge(pd.DataFrame(first,columns=['date']).reset_index(),how='inner')\n",
    "first_df.sort_values('ifc',ascending=False)"
   ]
  },
  {
   "cell_type": "markdown",
   "metadata": {},
   "source": [
    "### 1.1.2 顶点爆发日期和新增人数\n",
    "同一个城市，顶点爆发日期非常相近\n",
    "A城市都集中在6-2这一天，其次是6-1，其他时间爆发都很少"
   ]
  },
  {
   "cell_type": "code",
   "execution_count": 9,
   "metadata": {},
   "outputs": [],
   "source": [
    "peak=ifc.groupby('zoneid').apply(lambda g:g.ifc.idxmax())"
   ]
  },
  {
   "cell_type": "code",
   "execution_count": 10,
   "metadata": {},
   "outputs": [
    {
     "data": {
      "text/plain": [
       "<matplotlib.axes._subplots.AxesSubplot at 0x1eb8eb792b0>"
      ]
     },
     "execution_count": 10,
     "metadata": {},
     "output_type": "execute_result"
    },
    {
     "data": {
      "image/png": "[encoded data removed]",
      "text/plain": [
       "<Figure size 432x288 with 1 Axes>"
      ]
     },
     "metadata": {},
     "output_type": "display_data"
    }
   ],
   "source": [
    "peak.value_counts().plot.bar()"
   ]
  },
  {
   "cell_type": "code",
   "execution_count": 11,
   "metadata": {},
   "outputs": [],
   "source": [
    "peak_df=ifc.reset_index().merge(pd.DataFrame(peak,columns=['date']).reset_index(),how='inner')"
   ]
  },
  {
   "cell_type": "code",
   "execution_count": 12,
   "metadata": {},
   "outputs": [
    {
     "data": {
      "text/html": [
       "<div>\n",
       "<style scoped>\n",
       "    .dataframe tbody tr th:only-of-type {\n",
       "        vertical-align: middle;\n",
       "    }\n",
       "\n",
       "    .dataframe tbody tr th {\n",
       "        vertical-align: top;\n",
       "    }\n",
       "\n",
       "    .dataframe thead th {\n",
       "        text-align: right;\n",
       "    }\n",
       "</style>\n",
       "<table border=\"1\" class=\"dataframe\">\n",
       "  <thead>\n",
       "    <tr style=\"text-align: right;\">\n",
       "      <th></th>\n",
       "      <th>date</th>\n",
       "      <th>city</th>\n",
       "      <th>zoneid</th>\n",
       "      <th>ifc</th>\n",
       "    </tr>\n",
       "  </thead>\n",
       "  <tbody>\n",
       "    <tr>\n",
       "      <th>39</th>\n",
       "      <td>2120-06-01</td>\n",
       "      <td>A</td>\n",
       "      <td>39</td>\n",
       "      <td>47382</td>\n",
       "    </tr>\n",
       "    <tr>\n",
       "      <th>40</th>\n",
       "      <td>2120-06-01</td>\n",
       "      <td>A</td>\n",
       "      <td>40</td>\n",
       "      <td>30581</td>\n",
       "    </tr>\n",
       "    <tr>\n",
       "      <th>51</th>\n",
       "      <td>2120-06-01</td>\n",
       "      <td>A</td>\n",
       "      <td>51</td>\n",
       "      <td>18449</td>\n",
       "    </tr>\n",
       "    <tr>\n",
       "      <th>65</th>\n",
       "      <td>2120-06-01</td>\n",
       "      <td>A</td>\n",
       "      <td>65</td>\n",
       "      <td>15200</td>\n",
       "    </tr>\n",
       "    <tr>\n",
       "      <th>41</th>\n",
       "      <td>2120-06-01</td>\n",
       "      <td>A</td>\n",
       "      <td>41</td>\n",
       "      <td>12427</td>\n",
       "    </tr>\n",
       "    <tr>\n",
       "      <th>...</th>\n",
       "      <td>...</td>\n",
       "      <td>...</td>\n",
       "      <td>...</td>\n",
       "      <td>...</td>\n",
       "    </tr>\n",
       "    <tr>\n",
       "      <th>100</th>\n",
       "      <td>2120-06-02</td>\n",
       "      <td>A</td>\n",
       "      <td>100</td>\n",
       "      <td>126</td>\n",
       "    </tr>\n",
       "    <tr>\n",
       "      <th>85</th>\n",
       "      <td>2120-06-02</td>\n",
       "      <td>A</td>\n",
       "      <td>85</td>\n",
       "      <td>123</td>\n",
       "    </tr>\n",
       "    <tr>\n",
       "      <th>5</th>\n",
       "      <td>2120-06-02</td>\n",
       "      <td>A</td>\n",
       "      <td>5</td>\n",
       "      <td>115</td>\n",
       "    </tr>\n",
       "    <tr>\n",
       "      <th>95</th>\n",
       "      <td>2120-06-01</td>\n",
       "      <td>A</td>\n",
       "      <td>95</td>\n",
       "      <td>113</td>\n",
       "    </tr>\n",
       "    <tr>\n",
       "      <th>103</th>\n",
       "      <td>2120-06-02</td>\n",
       "      <td>A</td>\n",
       "      <td>103</td>\n",
       "      <td>108</td>\n",
       "    </tr>\n",
       "  </tbody>\n",
       "</table>\n",
       "<p>118 rows × 4 columns</p>\n",
       "</div>"
      ],
      "text/plain": [
       "          date city  zoneid    ifc\n",
       "39  2120-06-01    A      39  47382\n",
       "40  2120-06-01    A      40  30581\n",
       "51  2120-06-01    A      51  18449\n",
       "65  2120-06-01    A      65  15200\n",
       "41  2120-06-01    A      41  12427\n",
       "..         ...  ...     ...    ...\n",
       "100 2120-06-02    A     100    126\n",
       "85  2120-06-02    A      85    123\n",
       "5   2120-06-02    A       5    115\n",
       "95  2120-06-01    A      95    113\n",
       "103 2120-06-02    A     103    108\n",
       "\n",
       "[118 rows x 4 columns]"
      ]
     },
     "execution_count": 12,
     "metadata": {},
     "output_type": "execute_result"
    }
   ],
   "source": [
    "peak_df.sort_values('ifc',ascending=False)"
   ]
  },
  {
   "cell_type": "markdown",
   "metadata": {},
   "source": [
    "#### 1.2.2.1 signal寻找波峰值，分析二次爆发\n",
    "将最大的两个极大值点作为波峰值，第二个是第二次爆发点"
   ]
  },
  {
   "cell_type": "code",
   "execution_count": 13,
   "metadata": {},
   "outputs": [],
   "source": [
    "from scipy import signal\n",
    "\n",
    "peaks=ifc.groupby('zoneid').apply(lambda g:g.iloc[signal.find_peaks(g.ifc)[0]]).drop(columns='zoneid').reset_index()\n",
    "peaks=peaks.groupby('zoneid').apply(lambda g:g.sort_values('ifc',ascending=False)[:2]).drop(columns='zoneid').reset_index()[['date','city','zoneid','ifc']]"
   ]
  },
  {
   "cell_type": "markdown",
   "metadata": {},
   "source": [
    "### 1.2.3 合并转折点表: 区域编号,首例日期,顶点日期"
   ]
  },
  {
   "cell_type": "code",
   "execution_count": 14,
   "metadata": {},
   "outputs": [
    {
     "data": {
      "text/html": [
       "<div>\n",
       "<style scoped>\n",
       "    .dataframe tbody tr th:only-of-type {\n",
       "        vertical-align: middle;\n",
       "    }\n",
       "\n",
       "    .dataframe tbody tr th {\n",
       "        vertical-align: top;\n",
       "    }\n",
       "\n",
       "    .dataframe thead th {\n",
       "        text-align: right;\n",
       "    }\n",
       "</style>\n",
       "<table border=\"1\" class=\"dataframe\">\n",
       "  <thead>\n",
       "    <tr style=\"text-align: right;\">\n",
       "      <th></th>\n",
       "      <th>frst</th>\n",
       "      <th>peak</th>\n",
       "      <th>days</th>\n",
       "    </tr>\n",
       "    <tr>\n",
       "      <th>zoneid</th>\n",
       "      <th></th>\n",
       "      <th></th>\n",
       "      <th></th>\n",
       "    </tr>\n",
       "  </thead>\n",
       "  <tbody>\n",
       "    <tr>\n",
       "      <th>52</th>\n",
       "      <td>2120-05-08</td>\n",
       "      <td>2120-06-02</td>\n",
       "      <td>25 days</td>\n",
       "    </tr>\n",
       "    <tr>\n",
       "      <th>43</th>\n",
       "      <td>2120-05-09</td>\n",
       "      <td>2120-06-02</td>\n",
       "      <td>24 days</td>\n",
       "    </tr>\n",
       "    <tr>\n",
       "      <th>40</th>\n",
       "      <td>2120-05-08</td>\n",
       "      <td>2120-06-01</td>\n",
       "      <td>24 days</td>\n",
       "    </tr>\n",
       "    <tr>\n",
       "      <th>44</th>\n",
       "      <td>2120-05-09</td>\n",
       "      <td>2120-06-02</td>\n",
       "      <td>24 days</td>\n",
       "    </tr>\n",
       "    <tr>\n",
       "      <th>18</th>\n",
       "      <td>2120-05-13</td>\n",
       "      <td>2120-06-02</td>\n",
       "      <td>20 days</td>\n",
       "    </tr>\n",
       "    <tr>\n",
       "      <th>...</th>\n",
       "      <td>...</td>\n",
       "      <td>...</td>\n",
       "      <td>...</td>\n",
       "    </tr>\n",
       "    <tr>\n",
       "      <th>97</th>\n",
       "      <td>2120-05-24</td>\n",
       "      <td>2120-06-02</td>\n",
       "      <td>9 days</td>\n",
       "    </tr>\n",
       "    <tr>\n",
       "      <th>115</th>\n",
       "      <td>2120-05-25</td>\n",
       "      <td>2120-06-02</td>\n",
       "      <td>8 days</td>\n",
       "    </tr>\n",
       "    <tr>\n",
       "      <th>59</th>\n",
       "      <td>2120-05-25</td>\n",
       "      <td>2120-06-02</td>\n",
       "      <td>8 days</td>\n",
       "    </tr>\n",
       "    <tr>\n",
       "      <th>58</th>\n",
       "      <td>2120-05-25</td>\n",
       "      <td>2120-06-02</td>\n",
       "      <td>8 days</td>\n",
       "    </tr>\n",
       "    <tr>\n",
       "      <th>0</th>\n",
       "      <td>2120-05-26</td>\n",
       "      <td>2120-06-02</td>\n",
       "      <td>7 days</td>\n",
       "    </tr>\n",
       "  </tbody>\n",
       "</table>\n",
       "<p>118 rows × 3 columns</p>\n",
       "</div>"
      ],
      "text/plain": [
       "             frst       peak    days\n",
       "zoneid                              \n",
       "52     2120-05-08 2120-06-02 25 days\n",
       "43     2120-05-09 2120-06-02 24 days\n",
       "40     2120-05-08 2120-06-01 24 days\n",
       "44     2120-05-09 2120-06-02 24 days\n",
       "18     2120-05-13 2120-06-02 20 days\n",
       "...           ...        ...     ...\n",
       "97     2120-05-24 2120-06-02  9 days\n",
       "115    2120-05-25 2120-06-02  8 days\n",
       "59     2120-05-25 2120-06-02  8 days\n",
       "58     2120-05-25 2120-06-02  8 days\n",
       "0      2120-05-26 2120-06-02  7 days\n",
       "\n",
       "[118 rows x 3 columns]"
      ]
     },
     "execution_count": 14,
     "metadata": {},
     "output_type": "execute_result"
    }
   ],
   "source": [
    "pts=pd.concat([first,peak],axis=1)\n",
    "pts.columns=['frst','peak']\n",
    "pts['days']=pts.peak-pts.frst\n",
    "pts.sort_values('days',ascending=False)"
   ]
  },
  {
   "cell_type": "code",
   "execution_count": 15,
   "metadata": {},
   "outputs": [
    {
     "data": {
      "text/plain": [
       "15 days    22\n",
       "11 days    17\n",
       "14 days    14\n",
       "12 days    13\n",
       "13 days    11\n",
       "10 days    10\n",
       "16 days     9\n",
       "9 days      7\n",
       "24 days     3\n",
       "17 days     3\n",
       "8 days      3\n",
       "18 days     2\n",
       "20 days     1\n",
       "25 days     1\n",
       "7 days      1\n",
       "19 days     1\n",
       "Name: days, dtype: int64"
      ]
     },
     "execution_count": 15,
     "metadata": {},
     "output_type": "execute_result"
    }
   ],
   "source": [
    "pts.days.value_counts() # A城市爬坡阶段持续大约10-15天"
   ]
  },
  {
   "cell_type": "markdown",
   "metadata": {},
   "source": [
    "## 1.2 曲线拟合参数提取"
   ]
  },
  {
   "cell_type": "markdown",
   "metadata": {},
   "source": [
    "### 1.2.0 曲线拟合教程"
   ]
  },
  {
   "cell_type": "markdown",
   "metadata": {},
   "source": [
    "#### 1.2.0.1 多项式拟合"
   ]
  },
  {
   "cell_type": "code",
   "execution_count": 16,
   "metadata": {},
   "outputs": [
    {
     "name": "stdout",
     "output_type": "stream",
     "text": [
      "           4           3        2\n",
      "-0.001105 x + 0.07939 x - 1.57 x + 9.096 x - 8.273\n"
     ]
    },
    {
     "data": {
      "image/png": "[encoded data removed]",
      "text/plain": [
       "<Figure size 432x288 with 1 Axes>"
      ]
     },
     "metadata": {},
     "output_type": "display_data"
    }
   ],
   "source": [
    "x=np.arange(45)\n",
    "y=ifc[ifc.zoneid==0].ifc.values\n",
    "z1 = np.polyfit(x, y, 4) # 用k次多项式拟合\n",
    "p1 = np.poly1d(z1) #多项式系数\n",
    "\n",
    "print(p1)\n",
    "\n",
    "yvals=p1(x) \n",
    "\n",
    "plt.plot(x, y, '*',label='original values')\n",
    "plt.plot(x, yvals, 'r',label='polyfit values')\n",
    "plt.xlabel('x axis')\n",
    "plt.ylabel('y axis')\n",
    "plt.legend(loc=4)\n",
    "plt.title('polyfitting')\n",
    "plt.show()"
   ]
  },
  {
   "cell_type": "code",
   "execution_count": 17,
   "metadata": {},
   "outputs": [
    {
     "data": {
      "text/plain": [
       "[<matplotlib.lines.Line2D at 0x1eb8f189c88>]"
      ]
     },
     "execution_count": 17,
     "metadata": {},
     "output_type": "execute_result"
    },
    {
     "data": {
      "image/png": "[encoded data removed]",
      "text/plain": [
       "<Figure size 432x288 with 1 Axes>"
      ]
     },
     "metadata": {},
     "output_type": "display_data"
    }
   ],
   "source": [
    "plt.plot(ifc[ifc.zoneid==3].ifc,'*-')"
   ]
  },
  {
   "cell_type": "markdown",
   "metadata": {},
   "source": [
    "#### 1.2.0.2 指数拟合"
   ]
  },
  {
   "cell_type": "code",
   "execution_count": 18,
   "metadata": {},
   "outputs": [
    {
     "data": {
      "text/plain": [
       "[<matplotlib.lines.Line2D at 0x1eb8f289780>]"
      ]
     },
     "execution_count": 18,
     "metadata": {},
     "output_type": "execute_result"
    },
    {
     "data": {
      "image/png": "[encoded data removed]",
      "text/plain": [
       "<Figure size 432x288 with 1 Axes>"
      ]
     },
     "metadata": {},
     "output_type": "display_data"
    }
   ],
   "source": [
    "def func(x, a, b, c):\n",
    "    return a * np.exp(-b * x) + c\n",
    " \n",
    "xdata = np.linspace(0, 4, 50)\n",
    "y = func(xdata, 2.5, 1.3, 0.5)\n",
    "ydata = y + 0.2 * np.random.normal(size=len(xdata))\n",
    "plt.plot(xdata,ydata,'b-')\n",
    "popt, pcov = curve_fit(func, xdata, ydata)\n",
    "#popt数组中，三个值分别是待求参数a,b,c\n",
    "y2 = [func(i, popt[0],popt[1],popt[2]) for i in xdata]\n",
    "plt.plot(xdata,y2,'r--')"
   ]
  },
  {
   "cell_type": "markdown",
   "metadata": {},
   "source": [
    "### 1.2.1 爬坡/增长/上升期曲线 指数拟合"
   ]
  },
  {
   "cell_type": "markdown",
   "metadata": {},
   "source": [
    "### $y=ae^{bx}+c$\n",
    "\n",
    "x是从0开始的序列，表示天数"
   ]
  },
  {
   "cell_type": "code",
   "execution_count": 19,
   "metadata": {},
   "outputs": [],
   "source": [
    "# 截取提取每个城市从初例到顶峰之间的曲线up_curve(uc)\n",
    "uc=ifc.groupby('zoneid').apply(lambda g:g[(g.index>=pts.loc[g.zoneid[0],'frst'])&(g.index<=pts.loc[g.zoneid[0],'peak'])])\n",
    "uc=uc.drop(columns='zoneid').reset_index().set_index('date')"
   ]
  },
  {
   "cell_type": "code",
   "execution_count": 20,
   "metadata": {},
   "outputs": [
    {
     "data": {
      "text/plain": [
       "array([  25.71589807,    0.36983968, -107.84283301])"
      ]
     },
     "execution_count": 20,
     "metadata": {},
     "output_type": "execute_result"
    },
    {
     "data": {
      "image/png": "[encoded data removed]",
      "text/plain": [
       "<Figure size 432x288 with 1 Axes>"
      ]
     },
     "metadata": {},
     "output_type": "display_data"
    }
   ],
   "source": [
    "ts=uc[uc.zoneid==68].ifc\n",
    "def func_u(x, a, b, c):\n",
    "    return a * np.exp(b * x) + c\n",
    "x=np.arange(len(ts))\n",
    "y=ts.values\n",
    "plt.plot(x,y,'b-')\n",
    "popt, pcov = curve_fit(func_u, x, y)\n",
    "#popt数组中，三个值分别是待求参数a,b,c\n",
    "y2 = [func_u(i, *popt) for i in x]\n",
    "plt.plot(x,y2,'r--')\n",
    "popt"
   ]
  },
  {
   "cell_type": "code",
   "execution_count": 21,
   "metadata": {},
   "outputs": [],
   "source": [
    "def func_u(x, a, b, c):\n",
    "    return a * np.exp(b * x) + c\n",
    "def exp_fit_forecast(zoneid):\n",
    "    ts=uc[uc.zoneid==zoneid].ifc\n",
    "    n=len(ts)\n",
    "    y=ts.values\n",
    "    x=np.arange(len(ts))# x是从0开始的序列，表示经过的天数\n",
    "    popt, pcov = curve_fit(func_u, x, y) \n",
    "    y_fit = [int(func_u(i, *popt)) for i in range(n)]\n",
    "    dt = pd.date_range(start=ts.index[0], periods=len(ts), freq=\"D\")\n",
    "    sr=pd.Series(y_fit,index=dt)\n",
    "    sr[sr<0]=0\n",
    "    return sr,popt\n",
    "\n",
    "uc_pred=pd.DataFrame([])\n",
    "uc_para=np.array([])\n",
    "for zoneid in range(118):\n",
    "    df,para=exp_fit_forecast(zoneid)\n",
    "    df=df.reset_index()\n",
    "    uc_para=np.append(uc_para,para)\n",
    "    df.columns=['date','ifc_pred']\n",
    "    df['zoneid']=zoneid\n",
    "    uc_pred=uc_pred.append(df)\n",
    "uc_pred=uc_pred.set_index('date')\n",
    "uc_para=pd.DataFrame(uc_para.reshape([-1,3])).reset_index()\n",
    "uc_para.columns=['zoneid','uc_a','uc_b','uc_c']"
   ]
  },
  {
   "cell_type": "code",
   "execution_count": 22,
   "metadata": {},
   "outputs": [
    {
     "data": {
      "text/plain": [
       "[<matplotlib.lines.Line2D at 0x1eb8f39db38>]"
      ]
     },
     "execution_count": 22,
     "metadata": {},
     "output_type": "execute_result"
    },
    {
     "data": {
      "image/png": "[encoded data removed]",
      "text/plain": [
       "<Figure size 432x288 with 1 Axes>"
      ]
     },
     "metadata": {},
     "output_type": "display_data"
    }
   ],
   "source": [
    "# 查看某一个区域\n",
    "zoneid=58\n",
    "ts=uc[uc.zoneid==zoneid].ifc\n",
    "plt.plot(ts,'-*')\n",
    "plt.plot(uc_pred[uc_pred.zoneid==zoneid].ifc_pred)"
   ]
  },
  {
   "cell_type": "markdown",
   "metadata": {},
   "source": [
    "### 1.2.2 下降/衰退期曲线 指数拟合"
   ]
  },
  {
   "cell_type": "code",
   "execution_count": 23,
   "metadata": {},
   "outputs": [],
   "source": [
    "# 截取提取每个城市从顶峰到训练集最后一天之间的曲线down_curve(dc)\n",
    "dc=ifc.groupby('zoneid').apply(lambda g:g[g.index>=pts.loc[g.zoneid[0],'peak']])\n",
    "dc=dc.drop(columns='zoneid').reset_index().set_index('date')"
   ]
  },
  {
   "cell_type": "markdown",
   "metadata": {},
   "source": [
    "#### 1.2.2.1 对A城市所有站点进行指数拟合并预测后30天（包含峰值点）"
   ]
  },
  {
   "cell_type": "markdown",
   "metadata": {},
   "source": [
    "### $y=ae^{b/x}+c$\n",
    "\n",
    "x是从1开始的序列，表示经过的天数"
   ]
  },
  {
   "cell_type": "code",
   "execution_count": 24,
   "metadata": {},
   "outputs": [
    {
     "name": "stderr",
     "output_type": "stream",
     "text": [
      "D:\\python\\lib\\site-packages\\scipy\\optimize\\minpack.py:808: OptimizeWarning: Covariance of the parameters could not be estimated\n",
      "  category=OptimizeWarning)\n"
     ]
    }
   ],
   "source": [
    "def func_d(x, a, b, c):\n",
    "        return a * np.exp(b /x) + c\n",
    "def exp_fit_forecast(zoneid):\n",
    "    ts=dc[dc.zoneid==zoneid].ifc\n",
    "    n=len(ts)\n",
    "    y=ts.values\n",
    "    x=np.arange(1,len(ts)+1) # x是从1开始的序列，表示经过的天数\n",
    "    popt, pcov = curve_fit(func_d, x, y, maxfev = 10000)\n",
    "    y_fit = [int(func_d(i, *popt)) for i in range(1,n+31)]\n",
    "    dt = pd.date_range(start=ts.index[0], periods=n+30, freq=\"D\")\n",
    "    sr=pd.Series(y_fit,index=dt)\n",
    "    sr[sr<0]=0\n",
    "    return sr,popt\n",
    "\n",
    "dc_pred=pd.DataFrame([])\n",
    "dc_para=np.array([])\n",
    "for zoneid in range(118):\n",
    "    df,para=exp_fit_forecast(zoneid)\n",
    "    df=df.reset_index()\n",
    "    dc_para=np.append(dc_para,para)\n",
    "    df.columns=['date','ifc_pred']\n",
    "    df['zoneid']=zoneid\n",
    "    dc_pred=dc_pred.append(df)\n",
    "dc_pred=dc_pred.set_index('date')\n",
    "dc_para=pd.DataFrame(dc_para.reshape([-1,3])).reset_index()\n",
    "dc_para.columns=['zoneid','dc_a','dc_b','dc_c']"
   ]
  },
  {
   "cell_type": "code",
   "execution_count": 25,
   "metadata": {},
   "outputs": [
    {
     "data": {
      "text/plain": [
       "[<matplotlib.lines.Line2D at 0x1eb8f2959e8>]"
      ]
     },
     "execution_count": 25,
     "metadata": {},
     "output_type": "execute_result"
    },
    {
     "data": {
      "image/png": "[encoded data removed]",
      "text/plain": [
       "<Figure size 432x288 with 1 Axes>"
      ]
     },
     "metadata": {},
     "output_type": "display_data"
    }
   ],
   "source": [
    "# 查看某一个区域\n",
    "zoneid=63\n",
    "ts=dc[dc.zoneid==zoneid].ifc\n",
    "plt.plot(ts,'-*')\n",
    "plt.plot(dc_pred[dc_pred.zoneid==zoneid].ifc_pred)"
   ]
  },
  {
   "cell_type": "markdown",
   "metadata": {},
   "source": [
    "#### 1.2.2.2 从峰值点后一天（锐减之后），采用一次线性拟合，分析斜率"
   ]
  },
  {
   "cell_type": "markdown",
   "metadata": {},
   "source": [
    "### $y=a+bx$"
   ]
  },
  {
   "cell_type": "code",
   "execution_count": 26,
   "metadata": {},
   "outputs": [],
   "source": [
    "# 截取提取每个城市从顶峰到训练集最后一天之间的曲线down_curve(dc1) (不包含顶峰值)\n",
    "dc1=ifc.groupby('zoneid').apply(lambda g:g[g.index>pts.loc[g.zoneid[0],'peak']])\n",
    "dc1=dc1.drop(columns='zoneid').reset_index().set_index('date')"
   ]
  },
  {
   "cell_type": "code",
   "execution_count": 27,
   "metadata": {},
   "outputs": [],
   "source": [
    "# 衰减尾部线性拟合\n",
    "def linear_fit_forecast(zoneid):\n",
    "    ts=dc1[dc1.zoneid==zoneid].ifc\n",
    "    n=len(ts)\n",
    "    y=ts.values\n",
    "    x=np.arange(n)\n",
    "    z1 = np.polyfit(x, y, 1) # 用1次多项式拟合，即线性回归（x是天数）\n",
    "    p1 = np.poly1d(z1) #1次多项式系数，截距，斜率\n",
    "    x_fit=np.arange(n+30)\n",
    "    y_fit=p1(x_fit)\n",
    "    dt = pd.date_range(start=ts.index[0], periods=len(ts)+30, freq=\"D\")\n",
    "    sr = pd.Series(y_fit,index=dt)\n",
    "    sr[sr<0]=0\n",
    "    return sr.astype(int),p1[1]"
   ]
  },
  {
   "cell_type": "code",
   "execution_count": 28,
   "metadata": {},
   "outputs": [],
   "source": [
    "# 批量预测 储存数据\n",
    "dc1_pred=pd.DataFrame([])\n",
    "dc1_para=np.array([])\n",
    "for zoneid in range(118):\n",
    "    df,para=linear_fit_forecast(zoneid)\n",
    "    df=df.reset_index()\n",
    "    dc1_para=np.append(dc1_para,para)\n",
    "    df.columns=['date','ifc_pred']\n",
    "    df['zoneid']=zoneid\n",
    "    dc1_pred=dc1_pred.append(df)\n",
    "dc1_pred=dc1_pred.set_index('date')\n",
    "dc1_para=pd.DataFrame(dc1_para.reshape([-1,1])).reset_index()\n",
    "dc1_para.columns=['zoneid','dc_slope']"
   ]
  },
  {
   "cell_type": "code",
   "execution_count": 29,
   "metadata": {},
   "outputs": [
    {
     "data": {
      "text/plain": [
       "[<matplotlib.lines.Line2D at 0x1eb8f374dd8>]"
      ]
     },
     "execution_count": 29,
     "metadata": {},
     "output_type": "execute_result"
    },
    {
     "data": {
      "image/png": "[encoded data removed]",
      "text/plain": [
       "<Figure size 432x288 with 1 Axes>"
      ]
     },
     "metadata": {},
     "output_type": "display_data"
    }
   ],
   "source": [
    "# 查看某一个区域\n",
    "zoneid=63\n",
    "ts=dc1[dc1.zoneid==zoneid].ifc\n",
    "plt.plot(ts,'-*',label='original values')\n",
    "plt.plot(dc1_pred[dc1_pred.zoneid==zoneid].ifc_pred,'r',label='polyfit values')"
   ]
  },
  {
   "cell_type": "markdown",
   "metadata": {},
   "source": [
    "## 1.3 汇总结果"
   ]
  },
  {
   "cell_type": "markdown",
   "metadata": {},
   "source": [
    "### 1.3.1 区域新增感染人数信息"
   ]
  },
  {
   "cell_type": "code",
   "execution_count": 30,
   "metadata": {},
   "outputs": [],
   "source": [
    "first_df1=first_df.rename(columns={'ifc':'ifc_init','date':'date_init'})\n",
    "peak_df1=peak_df.rename(columns={'ifc':'ifc_peak','date':'date_peak'})\n",
    "# 高峰日紧接着后一天，新增感染人数的，骤降人数\n",
    "sag_df=pd.DataFrame(ifc.groupby('zoneid').apply(lambda d:d.sort_index().ifc.diff(-1)).unstack()).reset_index().merge(peak_df).rename(columns={0:'ifc_sag'})[['zoneid','ifc_sag']]"
   ]
  },
  {
   "cell_type": "code",
   "execution_count": 31,
   "metadata": {},
   "outputs": [],
   "source": [
    "# 合并\n",
    "zone_a_ifc=peak_df1.merge(first_df1).merge(sag_df).merge(uc_para).merge(dc_para).merge(dc1_para)"
   ]
  },
  {
   "cell_type": "code",
   "execution_count": 32,
   "metadata": {},
   "outputs": [],
   "source": [
    "zone_a_ifc['days_up']=(zone_a_ifc.date_peak-zone_a_ifc.date_init).dt.days"
   ]
  },
  {
   "cell_type": "code",
   "execution_count": 33,
   "metadata": {},
   "outputs": [],
   "source": [
    "zone_a_ifc['date_init_rank']=(zone_a_ifc['date_init']-zone_a_ifc['date_init'].min()).dt.days"
   ]
  },
  {
   "cell_type": "code",
   "execution_count": 34,
   "metadata": {},
   "outputs": [],
   "source": [
    "zone_a_ifc=zone_a_ifc[['city','zoneid', # 城市，区域id\n",
    "                       'date_init','ifc_init','days_up','date_init_rank', # 首例日期，首例人数，爬坡阶段天数\n",
    "                       'date_peak','ifc_peak','ifc_sag', # 高峰日期，高峰人数，高峰日后一天内骤降人数\n",
    "                       'uc_a', 'uc_b', 'uc_c', # 爬坡上升期曲线指数拟合参数\n",
    "                       'dc_a', 'dc_b', 'dc_c', 'dc_slope']] # 衰退下降期曲线指数拟合参数；一次线性回归下降斜率"
   ]
  },
  {
   "cell_type": "markdown",
   "metadata": {},
   "source": [
    "-----"
   ]
  },
  {
   "cell_type": "code",
   "execution_count": 40,
   "metadata": {},
   "outputs": [],
   "source": [
    "def zone_cent(city):\n",
    "    # 读取初始文件\n",
    "    zone0=pd.read_csv('train_data/city_%s/grid_attr.csv'%city,header=None,names=['zonex','zoney','zoneid'])\n",
    "    # 按照区域id分组，因为一个区域的所有点构成简单的矩形，所以求矩形的形心点作为区域中心\n",
    "    zone1=zone0.groupby('zoneid').apply(lambda g:[(g.zonex.max()+g.zonex.min())/2,(g.zoney.max()+g.zoney.min())/2])\n",
    "    zone1=pd.DataFrame(zip(*zone1)).T.reset_index()\n",
    "    zone1.columns=['zoneid','zonex','zoney']\n",
    "    zone1['city']=city\n",
    "    return zone1"
   ]
  },
  {
   "cell_type": "code",
   "execution_count": 41,
   "metadata": {},
   "outputs": [],
   "source": [
    "zone_a_cent=zone_cent('A')"
   ]
  },
  {
   "cell_type": "code",
   "execution_count": 42,
   "metadata": {},
   "outputs": [],
   "source": [
    "zone_a_info=zone_a_cent.merge(zone_a_ifc)"
   ]
  },
  {
   "cell_type": "code",
   "execution_count": 43,
   "metadata": {},
   "outputs": [],
   "source": [
    "zone_a_info.to_csv('src/zone_a_info.csv',index=False)"
   ]
  },
  {
   "cell_type": "code",
   "execution_count": 44,
   "metadata": {},
   "outputs": [
    {
     "data": {
      "text/html": [
       "<div>\n",
       "<style scoped>\n",
       "    .dataframe tbody tr th:only-of-type {\n",
       "        vertical-align: middle;\n",
       "    }\n",
       "\n",
       "    .dataframe tbody tr th {\n",
       "        vertical-align: top;\n",
       "    }\n",
       "\n",
       "    .dataframe thead th {\n",
       "        text-align: right;\n",
       "    }\n",
       "</style>\n",
       "<table border=\"1\" class=\"dataframe\">\n",
       "  <thead>\n",
       "    <tr style=\"text-align: right;\">\n",
       "      <th></th>\n",
       "      <th>count</th>\n",
       "      <th>mean</th>\n",
       "      <th>std</th>\n",
       "      <th>min</th>\n",
       "      <th>25%</th>\n",
       "      <th>50%</th>\n",
       "      <th>75%</th>\n",
       "      <th>max</th>\n",
       "    </tr>\n",
       "  </thead>\n",
       "  <tbody>\n",
       "    <tr>\n",
       "      <th>zoneid</th>\n",
       "      <td>118.0</td>\n",
       "      <td>5.850000e+01</td>\n",
       "      <td>3.420770e+01</td>\n",
       "      <td>0.000000e+00</td>\n",
       "      <td>2.925000e+01</td>\n",
       "      <td>58.500000</td>\n",
       "      <td>8.775000e+01</td>\n",
       "      <td>1.170000e+02</td>\n",
       "    </tr>\n",
       "    <tr>\n",
       "      <th>zonex</th>\n",
       "      <td>118.0</td>\n",
       "      <td>1.472413e+02</td>\n",
       "      <td>9.381374e-02</td>\n",
       "      <td>1.467658e+02</td>\n",
       "      <td>1.471970e+02</td>\n",
       "      <td>147.241912</td>\n",
       "      <td>1.472869e+02</td>\n",
       "      <td>1.474306e+02</td>\n",
       "    </tr>\n",
       "    <tr>\n",
       "      <th>zoney</th>\n",
       "      <td>118.0</td>\n",
       "      <td>3.028112e+01</td>\n",
       "      <td>6.204749e-02</td>\n",
       "      <td>3.007101e+01</td>\n",
       "      <td>3.024240e+01</td>\n",
       "      <td>30.304461</td>\n",
       "      <td>3.032062e+01</td>\n",
       "      <td>3.039820e+01</td>\n",
       "    </tr>\n",
       "    <tr>\n",
       "      <th>ifc_init</th>\n",
       "      <td>118.0</td>\n",
       "      <td>5.016949e+00</td>\n",
       "      <td>5.273678e+00</td>\n",
       "      <td>1.000000e+00</td>\n",
       "      <td>2.000000e+00</td>\n",
       "      <td>3.000000</td>\n",
       "      <td>6.750000e+00</td>\n",
       "      <td>3.100000e+01</td>\n",
       "    </tr>\n",
       "    <tr>\n",
       "      <th>days_up</th>\n",
       "      <td>118.0</td>\n",
       "      <td>1.333051e+01</td>\n",
       "      <td>3.273972e+00</td>\n",
       "      <td>7.000000e+00</td>\n",
       "      <td>1.100000e+01</td>\n",
       "      <td>13.000000</td>\n",
       "      <td>1.500000e+01</td>\n",
       "      <td>2.500000e+01</td>\n",
       "    </tr>\n",
       "    <tr>\n",
       "      <th>date_init_rank</th>\n",
       "      <td>118.0</td>\n",
       "      <td>1.138983e+01</td>\n",
       "      <td>3.338544e+00</td>\n",
       "      <td>0.000000e+00</td>\n",
       "      <td>1.000000e+01</td>\n",
       "      <td>11.000000</td>\n",
       "      <td>1.400000e+01</td>\n",
       "      <td>1.800000e+01</td>\n",
       "    </tr>\n",
       "    <tr>\n",
       "      <th>ifc_peak</th>\n",
       "      <td>118.0</td>\n",
       "      <td>2.586339e+03</td>\n",
       "      <td>5.748749e+03</td>\n",
       "      <td>1.080000e+02</td>\n",
       "      <td>3.370000e+02</td>\n",
       "      <td>783.500000</td>\n",
       "      <td>2.127500e+03</td>\n",
       "      <td>4.738200e+04</td>\n",
       "    </tr>\n",
       "    <tr>\n",
       "      <th>ifc_sag</th>\n",
       "      <td>118.0</td>\n",
       "      <td>7.985254e+02</td>\n",
       "      <td>1.079569e+03</td>\n",
       "      <td>0.000000e+00</td>\n",
       "      <td>1.405000e+02</td>\n",
       "      <td>337.500000</td>\n",
       "      <td>9.710000e+02</td>\n",
       "      <td>4.588000e+03</td>\n",
       "    </tr>\n",
       "    <tr>\n",
       "      <th>uc_a</th>\n",
       "      <td>118.0</td>\n",
       "      <td>5.998577e+01</td>\n",
       "      <td>1.049564e+02</td>\n",
       "      <td>3.009138e-01</td>\n",
       "      <td>1.173506e+01</td>\n",
       "      <td>28.885998</td>\n",
       "      <td>7.004268e+01</td>\n",
       "      <td>8.328699e+02</td>\n",
       "    </tr>\n",
       "    <tr>\n",
       "      <th>uc_b</th>\n",
       "      <td>118.0</td>\n",
       "      <td>2.796547e-01</td>\n",
       "      <td>1.029675e-01</td>\n",
       "      <td>7.884564e-02</td>\n",
       "      <td>2.252385e-01</td>\n",
       "      <td>0.272693</td>\n",
       "      <td>3.223444e-01</td>\n",
       "      <td>1.026193e+00</td>\n",
       "    </tr>\n",
       "    <tr>\n",
       "      <th>uc_c</th>\n",
       "      <td>118.0</td>\n",
       "      <td>-1.230744e+02</td>\n",
       "      <td>2.116176e+02</td>\n",
       "      <td>-1.368279e+03</td>\n",
       "      <td>-1.293290e+02</td>\n",
       "      <td>-55.313401</td>\n",
       "      <td>-2.219856e+01</td>\n",
       "      <td>2.267128e+01</td>\n",
       "    </tr>\n",
       "    <tr>\n",
       "      <th>dc_a</th>\n",
       "      <td>118.0</td>\n",
       "      <td>5.589656e+06</td>\n",
       "      <td>2.036071e+07</td>\n",
       "      <td>1.160411e-09</td>\n",
       "      <td>1.143915e+03</td>\n",
       "      <td>189209.803641</td>\n",
       "      <td>1.736079e+06</td>\n",
       "      <td>1.821140e+08</td>\n",
       "    </tr>\n",
       "    <tr>\n",
       "      <th>dc_b</th>\n",
       "      <td>118.0</td>\n",
       "      <td>1.442330e+00</td>\n",
       "      <td>4.837783e+00</td>\n",
       "      <td>2.450115e-04</td>\n",
       "      <td>4.366455e-04</td>\n",
       "      <td>0.001204</td>\n",
       "      <td>6.080277e-01</td>\n",
       "      <td>2.527640e+01</td>\n",
       "    </tr>\n",
       "    <tr>\n",
       "      <th>dc_c</th>\n",
       "      <td>118.0</td>\n",
       "      <td>-5.589740e+06</td>\n",
       "      <td>2.036123e+07</td>\n",
       "      <td>-1.821184e+08</td>\n",
       "      <td>-1.735951e+06</td>\n",
       "      <td>-189166.789526</td>\n",
       "      <td>-1.065935e+03</td>\n",
       "      <td>2.170060e+02</td>\n",
       "    </tr>\n",
       "    <tr>\n",
       "      <th>dc_slope</th>\n",
       "      <td>118.0</td>\n",
       "      <td>-9.882526e+01</td>\n",
       "      <td>2.587263e+02</td>\n",
       "      <td>-2.193989e+03</td>\n",
       "      <td>-7.689948e+01</td>\n",
       "      <td>-24.167832</td>\n",
       "      <td>-1.005682e+01</td>\n",
       "      <td>-1.615385e+00</td>\n",
       "    </tr>\n",
       "  </tbody>\n",
       "</table>\n",
       "</div>"
      ],
      "text/plain": [
       "                count          mean           std           min           25%  \\\n",
       "zoneid          118.0  5.850000e+01  3.420770e+01  0.000000e+00  2.925000e+01   \n",
       "zonex           118.0  1.472413e+02  9.381374e-02  1.467658e+02  1.471970e+02   \n",
       "zoney           118.0  3.028112e+01  6.204749e-02  3.007101e+01  3.024240e+01   \n",
       "ifc_init        118.0  5.016949e+00  5.273678e+00  1.000000e+00  2.000000e+00   \n",
       "days_up         118.0  1.333051e+01  3.273972e+00  7.000000e+00  1.100000e+01   \n",
       "date_init_rank  118.0  1.138983e+01  3.338544e+00  0.000000e+00  1.000000e+01   \n",
       "ifc_peak        118.0  2.586339e+03  5.748749e+03  1.080000e+02  3.370000e+02   \n",
       "ifc_sag         118.0  7.985254e+02  1.079569e+03  0.000000e+00  1.405000e+02   \n",
       "uc_a            118.0  5.998577e+01  1.049564e+02  3.009138e-01  1.173506e+01   \n",
       "uc_b            118.0  2.796547e-01  1.029675e-01  7.884564e-02  2.252385e-01   \n",
       "uc_c            118.0 -1.230744e+02  2.116176e+02 -1.368279e+03 -1.293290e+02   \n",
       "dc_a            118.0  5.589656e+06  2.036071e+07  1.160411e-09  1.143915e+03   \n",
       "dc_b            118.0  1.442330e+00  4.837783e+00  2.450115e-04  4.366455e-04   \n",
       "dc_c            118.0 -5.589740e+06  2.036123e+07 -1.821184e+08 -1.735951e+06   \n",
       "dc_slope        118.0 -9.882526e+01  2.587263e+02 -2.193989e+03 -7.689948e+01   \n",
       "\n",
       "                          50%           75%           max  \n",
       "zoneid              58.500000  8.775000e+01  1.170000e+02  \n",
       "zonex              147.241912  1.472869e+02  1.474306e+02  \n",
       "zoney               30.304461  3.032062e+01  3.039820e+01  \n",
       "ifc_init             3.000000  6.750000e+00  3.100000e+01  \n",
       "days_up             13.000000  1.500000e+01  2.500000e+01  \n",
       "date_init_rank      11.000000  1.400000e+01  1.800000e+01  \n",
       "ifc_peak           783.500000  2.127500e+03  4.738200e+04  \n",
       "ifc_sag            337.500000  9.710000e+02  4.588000e+03  \n",
       "uc_a                28.885998  7.004268e+01  8.328699e+02  \n",
       "uc_b                 0.272693  3.223444e-01  1.026193e+00  \n",
       "uc_c               -55.313401 -2.219856e+01  2.267128e+01  \n",
       "dc_a            189209.803641  1.736079e+06  1.821140e+08  \n",
       "dc_b                 0.001204  6.080277e-01  2.527640e+01  \n",
       "dc_c           -189166.789526 -1.065935e+03  2.170060e+02  \n",
       "dc_slope           -24.167832 -1.005682e+01 -1.615385e+00  "
      ]
     },
     "execution_count": 44,
     "metadata": {},
     "output_type": "execute_result"
    }
   ],
   "source": [
    "zone_a_info.describe().T"
   ]
  },
  {
   "cell_type": "markdown",
   "metadata": {},
   "source": [
    "# 2 人口密度"
   ]
  },
  {
   "cell_type": "code",
   "execution_count": 45,
   "metadata": {},
   "outputs": [],
   "source": [
    "from shapely.geometry import Point # 将pd数据（csv）转为gpd（shp）数据\n",
    "import geopandas as gpd"
   ]
  },
  {
   "cell_type": "code",
   "execution_count": 46,
   "metadata": {},
   "outputs": [],
   "source": [
    "def df2gdf(df,x_name,y_name):\n",
    "    \n",
    "    '''\n",
    "    将pd数据（csv）转为gpd（shp）数据\n",
    "    '''\n",
    "    geometry = [Point(xy) for xy in zip(df[x_name], df[y_name])]\n",
    "    df = df.drop([x_name,y_name], axis=1)\n",
    "    crs = {'init': 'epsg:4326'}\n",
    "    gdf = gpd.GeoDataFrame(df, crs=crs, geometry=geometry)\n",
    "    return gdf"
   ]
  },
  {
   "cell_type": "markdown",
   "metadata": {},
   "source": [
    "## 2.1 监测站分区：提取zone的形心作为区域代表点"
   ]
  },
  {
   "cell_type": "code",
   "execution_count": 47,
   "metadata": {},
   "outputs": [],
   "source": [
    "zone0=pd.read_csv('train_data/city_A/grid_attr.csv',header=None,names=['zonex','zoney','zoneid'])"
   ]
  },
  {
   "cell_type": "code",
   "execution_count": 48,
   "metadata": {},
   "outputs": [],
   "source": [
    "zone0.to_csv('src/zone_a_grid.csv',index=False)"
   ]
  },
  {
   "cell_type": "code",
   "execution_count": 49,
   "metadata": {},
   "outputs": [],
   "source": [
    "def zone_cent(city):\n",
    "    zone0=pd.read_csv('train_data/city_%s/grid_attr.csv'%city,header=None,names=['zonex','zoney','zoneid'])\n",
    "    zone1=zone0.groupby('zoneid').apply(lambda g:[(g.zonex.max()+g.zonex.min())/2,(g.zoney.max()+g.zoney.min())/2])\n",
    "    zone1=pd.DataFrame(zip(*zone1)).T.reset_index()\n",
    "    zone1.columns=['zoneid','zonex','zoney']\n",
    "    zone1['city']=city\n",
    "    return zone1"
   ]
  },
  {
   "cell_type": "code",
   "execution_count": 50,
   "metadata": {},
   "outputs": [
    {
     "data": {
      "text/plain": [
       "<matplotlib.axes._subplots.AxesSubplot at 0x1eb8f707940>"
      ]
     },
     "execution_count": 50,
     "metadata": {},
     "output_type": "execute_result"
    },
    {
     "data": {
      "image/png": "[encoded data removed]",
      "text/plain": [
       "<Figure size 432x288 with 1 Axes>"
      ]
     },
     "metadata": {},
     "output_type": "display_data"
    }
   ],
   "source": [
    "zone=pd.DataFrame([])\n",
    "for city in list('ABCDE'):\n",
    "    zone1=zone_cent(city)\n",
    "    zone=zone.append(zone1)\n",
    "df2gdf(zone,'zonex','zoney').plot(column='city',legend=True)"
   ]
  },
  {
   "cell_type": "markdown",
   "metadata": {},
   "source": [
    "# 3 城市内人口转移"
   ]
  },
  {
   "cell_type": "markdown",
   "metadata": {},
   "source": [
    "# @@@ RMSLE评分机制\n",
    "在peak处还是在衰减尾部的影响更大？"
   ]
  },
  {
   "cell_type": "markdown",
   "metadata": {},
   "source": [
    "均方根对数误差 root mean squared logarithmic error\n",
    "$$\\sqrt{\\frac{1}{n}\\sum_{i=1}^n (log(p_i+1)-log(a_i+1))^2}$$\n",
    "\n",
    "$$(log(p_i+1)-log(a_i+1))^2=(log(\\frac{p_i+1}{a_i+1}))^2$$\n",
    "\n",
    "$n$ total number of observations\n",
    "\n",
    "$p_i$ prediction\n",
    "\n",
    "$a_i$ actual value"
   ]
  },
  {
   "cell_type": "code",
   "execution_count": 51,
   "metadata": {},
   "outputs": [],
   "source": [
    "from math import log\n",
    "def rmsle_part(p,a):\n",
    "    return pow(log(p+1)-log(a+1),2)\n",
    "rmsle_part_np=np.vectorize(rmsle_part)"
   ]
  },
  {
   "cell_type": "code",
   "execution_count": 52,
   "metadata": {},
   "outputs": [
    {
     "data": {
      "text/plain": [
       "0.4804530139182014"
      ]
     },
     "execution_count": 52,
     "metadata": {},
     "output_type": "execute_result"
    }
   ],
   "source": [
    "rmsle_part(0,1)"
   ]
  },
  {
   "cell_type": "code",
   "execution_count": 53,
   "metadata": {},
   "outputs": [
    {
     "data": {
      "text/plain": [
       "0.4803144152702719"
      ]
     },
     "execution_count": 53,
     "metadata": {},
     "output_type": "execute_result"
    }
   ],
   "source": [
    "rmsle_part(10000,5000)"
   ]
  },
  {
   "cell_type": "code",
   "execution_count": 54,
   "metadata": {},
   "outputs": [
    {
     "data": {
      "text/plain": [
       "4.916087782821049"
      ]
     },
     "execution_count": 54,
     "metadata": {},
     "output_type": "execute_result"
    }
   ],
   "source": [
    "rmsle_part(10,100)"
   ]
  },
  {
   "cell_type": "code",
   "execution_count": 55,
   "metadata": {},
   "outputs": [
    {
     "data": {
      "text/plain": [
       "0.010870358273866714"
      ]
     },
     "execution_count": 55,
     "metadata": {},
     "output_type": "execute_result"
    }
   ],
   "source": [
    "rmsle_part(90,100)"
   ]
  },
  {
   "cell_type": "code",
   "execution_count": 56,
   "metadata": {},
   "outputs": [
    {
     "data": {
      "text/plain": [
       "5.749901739308773"
      ]
     },
     "execution_count": 56,
     "metadata": {},
     "output_type": "execute_result"
    }
   ],
   "source": [
    "rmsle_part(10,0)"
   ]
  },
  {
   "cell_type": "code",
   "execution_count": 57,
   "metadata": {},
   "outputs": [
    {
     "data": {
      "image/png": "[encoded data removed]",
      "text/plain": [
       "<Figure size 432x288 with 1 Axes>"
      ]
     },
     "metadata": {},
     "output_type": "display_data"
    }
   ],
   "source": [
    "from mpl_toolkits.mplot3d import Axes3D\n",
    "\n",
    "fig = plt.figure()\n",
    "ax = Axes3D(fig)\n",
    "X=np.arange(0,100)\n",
    "Y=np.arange(0,100)\n",
    "X, Y = np.meshgrid(X, Y)\n",
    "R = rmsle_part_np(X,Y)\n",
    "Z = R\n",
    "ax.plot_surface(X, Y, Z, rstride=1, cstride=1, cmap='rainbow')\n",
    " \n",
    "plt.draw()\n",
    "plt.pause(10)\n",
    "plt.savefig('src/3D.jpg')\n",
    "plt.close()"
   ]
  }
 ],
 "metadata": {
  "kernelspec": {
   "display_name": "Python 3",
   "language": "python",
   "name": "python3"
  },
  "language_info": {
   "codemirror_mode": {
    "name": "ipython",
    "version": 3
   },
   "file_extension": ".py",
   "mimetype": "text/x-python",
   "name": "python",
   "nbconvert_exporter": "python",
   "pygments_lexer": "ipython3",
   "version": "3.6.1"
  }
 },
 "nbformat": 4,
 "nbformat_minor": 2
}
